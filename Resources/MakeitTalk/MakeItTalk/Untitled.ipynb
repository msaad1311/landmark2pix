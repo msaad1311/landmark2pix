{
 "cells": [
  {
   "cell_type": "code",
   "execution_count": 4,
   "id": "white-structure",
   "metadata": {},
   "outputs": [],
   "source": [
    "\n",
    "import sys\n",
    "sys.path.append('thirdparty/AdaptiveWingLoss')\n",
    "import os, glob\n",
    "import numpy as np\n",
    "import cv2\n",
    "import argparse\n",
    "from src.approaches.train_image_translation import Image_translation_block\n",
    "import torch\n",
    "import pickle\n",
    "import face_alignment\n",
    "from src.autovc.AutoVC_mel_Convertor_retrain_version import AutoVC_mel_Convertor\n",
    "import shutil\n",
    "import util.utils as util\n",
    "from scipy.signal import savgol_filter\n",
    "\n",
    "from src.approaches.train_audio2landmark import Audio2landmark_model"
   ]
  },
  {
   "cell_type": "code",
   "execution_count": 5,
   "id": "mineral-accreditation",
   "metadata": {},
   "outputs": [],
   "source": [
    "\n",
    "default_head_name = 'dali'\n",
    "ADD_NAIVE_EYE = True\n",
    "CLOSE_INPUT_FACE_MOUTH = False"
   ]
  },
  {
   "cell_type": "code",
   "execution_count": 6,
   "id": "surrounded-haiti",
   "metadata": {},
   "outputs": [
    {
     "name": "stderr",
     "output_type": "stream",
     "text": [
      "usage: ipykernel_launcher.py [-h] [--jpg JPG] [--close_input_face_mouth] [--load_AUTOVC_name LOAD_AUTOVC_NAME]\n",
      "                             [--load_a2l_G_name LOAD_A2L_G_NAME] [--load_a2l_C_name LOAD_A2L_C_NAME]\n",
      "                             [--load_G_name LOAD_G_NAME] [--amp_lip_x AMP_LIP_X] [--amp_lip_y AMP_LIP_Y]\n",
      "                             [--amp_pos AMP_POS]\n",
      "                             [--reuse_train_emb_list REUSE_TRAIN_EMB_LIST [REUSE_TRAIN_EMB_LIST ...]] [--add_audio_in]\n",
      "                             [--comb_fan_awing] [--output_folder OUTPUT_FOLDER] [--test_end2end] [--dump_dir DUMP_DIR]\n",
      "                             [--pos_dim POS_DIM] [--use_prior_net] [--transformer_d_model TRANSFORMER_D_MODEL]\n",
      "                             [--transformer_N TRANSFORMER_N] [--transformer_heads TRANSFORMER_HEADS]\n",
      "                             [--spk_emb_enc_size SPK_EMB_ENC_SIZE] [--init_content_encoder INIT_CONTENT_ENCODER]\n",
      "                             [--lr LR] [--reg_lr REG_LR] [--write] [--segment_batch_size SEGMENT_BATCH_SIZE]\n",
      "                             [--emb_coef EMB_COEF] [--lambda_laplacian_smooth_loss LAMBDA_LAPLACIAN_SMOOTH_LOSS]\n",
      "                             [--use_11spk_only]\n",
      "ipykernel_launcher.py: error: unrecognized arguments: -f C:\\Users\\Saad.LAKES\\AppData\\Roaming\\jupyter\\runtime\\kernel-33b11a56-5b67-49cd-b91f-bddf061ef724.json\n"
     ]
    },
    {
     "ename": "SystemExit",
     "evalue": "2",
     "output_type": "error",
     "traceback": [
      "An exception has occurred, use %tb to see the full traceback.\n",
      "\u001b[1;31mSystemExit\u001b[0m\u001b[1;31m:\u001b[0m 2\n"
     ]
    }
   ],
   "source": [
    "parser = argparse.ArgumentParser()\n",
    "parser.add_argument('--jpg', type=str, default='{}.jpg'.format(default_head_name))\n",
    "parser.add_argument('--close_input_face_mouth', default=CLOSE_INPUT_FACE_MOUTH, action='store_true')\n",
    "\n",
    "parser.add_argument('--load_AUTOVC_name', type=str, default='examples/ckpt/ckpt_autovc.pth')\n",
    "parser.add_argument('--load_a2l_G_name', type=str, default='examples/ckpt/ckpt_speaker_branch.pth')\n",
    "parser.add_argument('--load_a2l_C_name', type=str, default='examples/ckpt/ckpt_content_branch.pth') #ckpt_audio2landmark_c.pth')\n",
    "parser.add_argument('--load_G_name', type=str, default='examples/ckpt/ckpt_116_i2i_comb.pth') #ckpt_image2image.pth') #ckpt_i2i_finetune_150.pth') #c\n",
    "\n",
    "parser.add_argument('--amp_lip_x', type=float, default=2.)\n",
    "parser.add_argument('--amp_lip_y', type=float, default=2.)\n",
    "parser.add_argument('--amp_pos', type=float, default=.5)\n",
    "parser.add_argument('--reuse_train_emb_list', type=str, nargs='+', default=[]) #  ['iWeklsXc0H8']) #['45hn7-LXDX8']) #['E_kmpT-EfOg']) #'iWeklsXc0H8', '29k8RtSUjE0', '45hn7-LXDX8',\n",
    "parser.add_argument('--add_audio_in', default=False, action='store_true')\n",
    "parser.add_argument('--comb_fan_awing', default=False, action='store_true')\n",
    "parser.add_argument('--output_folder', type=str, default='examples')\n",
    "\n",
    "parser.add_argument('--test_end2end', default=True, action='store_true')\n",
    "parser.add_argument('--dump_dir', type=str, default='', help='')\n",
    "parser.add_argument('--pos_dim', default=7, type=int)\n",
    "parser.add_argument('--use_prior_net', default=True, action='store_true')\n",
    "parser.add_argument('--transformer_d_model', default=32, type=int)\n",
    "parser.add_argument('--transformer_N', default=2, type=int)\n",
    "parser.add_argument('--transformer_heads', default=2, type=int)\n",
    "parser.add_argument('--spk_emb_enc_size', default=16, type=int)\n",
    "parser.add_argument('--init_content_encoder', type=str, default='')\n",
    "parser.add_argument('--lr', type=float, default=1e-3, help='learning rate')\n",
    "parser.add_argument('--reg_lr', type=float, default=1e-6, help='weight decay')\n",
    "parser.add_argument('--write', default=False, action='store_true')\n",
    "parser.add_argument('--segment_batch_size', type=int, default=1, help='batch size')\n",
    "parser.add_argument('--emb_coef', default=3.0, type=float)\n",
    "parser.add_argument('--lambda_laplacian_smooth_loss', default=1.0, type=float)\n",
    "parser.add_argument('--use_11spk_only', default=False, action='store_true')\n",
    "\n",
    "opt_parser = parser.parse_args()\n"
   ]
  },
  {
   "cell_type": "code",
   "execution_count": 13,
   "id": "convinced-plant",
   "metadata": {},
   "outputs": [
    {
     "name": "stdout",
     "output_type": "stream",
     "text": [
      "hi statue1.jpg\n"
     ]
    }
   ],
   "source": [
    "img1 = r'statue1.jpg'\n",
    "mout = True\n",
    "''' STEP 1: preprocess input single image '''\n",
    "print('hi',img1)\n",
    "img =cv2.imread('examples/' + img1)\n",
    "predictor = face_alignment.FaceAlignment(face_alignment.LandmarksType._3D, device='cuda', flip_input=True)\n",
    "shapes = predictor.get_landmarks(img)\n",
    "if (not shapes or len(shapes) != 1):\n",
    "    print('Cannot detect face landmarks. Exit.')\n",
    "    exit(-1)\n",
    "shape_3d = shapes[0]\n",
    "\n",
    "if(mout):\n",
    "    util.close_input_face_mouth(shape_3d)"
   ]
  },
  {
   "cell_type": "code",
   "execution_count": 14,
   "id": "prescription-manhattan",
   "metadata": {
    "scrolled": true
   },
   "outputs": [
    {
     "data": {
      "text/plain": [
       "(1, 68, 3)"
      ]
     },
     "execution_count": 14,
     "metadata": {},
     "output_type": "execute_result"
    }
   ],
   "source": [
    "np.array(shapes).shape"
   ]
  },
  {
   "cell_type": "code",
   "execution_count": null,
   "id": "fancy-prime",
   "metadata": {},
   "outputs": [],
   "source": []
  }
 ],
 "metadata": {
  "kernelspec": {
   "display_name": "Python 3",
   "language": "python",
   "name": "python3"
  },
  "language_info": {
   "codemirror_mode": {
    "name": "ipython",
    "version": 3
   },
   "file_extension": ".py",
   "mimetype": "text/x-python",
   "name": "python",
   "nbconvert_exporter": "python",
   "pygments_lexer": "ipython3",
   "version": "3.8.5"
  },
  "varInspector": {
   "cols": {
    "lenName": 16,
    "lenType": 16,
    "lenVar": 40
   },
   "kernels_config": {
    "python": {
     "delete_cmd_postfix": "",
     "delete_cmd_prefix": "del ",
     "library": "var_list.py",
     "varRefreshCmd": "print(var_dic_list())"
    },
    "r": {
     "delete_cmd_postfix": ") ",
     "delete_cmd_prefix": "rm(",
     "library": "var_list.r",
     "varRefreshCmd": "cat(var_dic_list()) "
    }
   },
   "types_to_exclude": [
    "module",
    "function",
    "builtin_function_or_method",
    "instance",
    "_Feature"
   ],
   "window_display": false
  }
 },
 "nbformat": 4,
 "nbformat_minor": 5
}
